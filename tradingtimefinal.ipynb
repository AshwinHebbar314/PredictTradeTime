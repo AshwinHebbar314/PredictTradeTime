{
 "cells": [
  {
   "cell_type": "markdown",
   "metadata": {},
   "source": [
    "<h1>\n",
    "Trade Time Analyser:\n",
    "</h1>\n",
    "\n",
    "<h2>\n",
    "    \n",
    "This program predicts an estimated value of time (in days and months) to reach a certain \"endgoal\" amount of money.\n",
    "</h2>"
   ]
  },
  {
   "cell_type": "code",
   "execution_count": 3,
   "metadata": {},
   "outputs": [],
   "source": [
    "import numpy as np \n",
    "def pos_trade_day(cap, inc):\n",
    "    cap += cap*(inc/100)\n",
    "    return cap\n",
    "#pos_trade_day(10000, 2)\n",
    "def neg_trade_day(cap, dec):\n",
    "    cap -= cap*(dec/100)\n",
    "    return cap \n",
    "#neg_trade_day(10000, 2)\n",
    "def trade_time(init_cap, inc, p_dec, dec, goal):\n",
    "    day = 0\n",
    "    current_cap = init_cap\n",
    "    while(current_cap<goal):\n",
    "        day += 1\n",
    "        #print(f\"Day:{day}\")\n",
    "        market = np.random.rand()\n",
    "        if(market>=p_dec):\n",
    "            current_cap = pos_trade_day(current_cap, inc)\n",
    "            #print(f\"Current Cap After Positive Trade:{current_cap}\")\n",
    "        else:\n",
    "            current_cap = neg_trade_day(current_cap, dec)\n",
    "            #print(f\"Current Cap After Negative Trade:{current_cap}\")\n",
    "    return init_cap, inc, p_dec, dec, day, current_cap \n",
    "\n",
    "#trade_time(10000, 2, 0.3, 1, 1000000)"
   ]
  },
  {
   "cell_type": "markdown",
   "metadata": {},
   "source": [
    "<h1>MAKE CHANGES IN THE FIRST LINE HERE IN THIS CELL</h1>\n",
    "\n",
    "<h2>\n",
    "Parameter details for trade_time() with given example values:\n",
    "</h2>\n",
    "\n",
    "<h3>\n",
    "    \n",
    "10000 = (integer)Initial Capital When Starting Out.\n",
    "\n",
    "2 = (percentage) an avg percent increase in capital on a good trade day\n",
    "\n",
    "0.3 = (probablity, 0-1) likeliness of having a bad trade day\n",
    "\n",
    "1 = (percentage) an avg percent degrease in capital due to loss on a bad trade day\n",
    "\n",
    "1000000 = final goal amount to be reached\n",
    "</h3>\n",
    "\n"
   ]
  },
  {
   "cell_type": "code",
   "execution_count": 2,
   "metadata": {
    "scrolled": true
   },
   "outputs": [
    {
     "name": "stdout",
     "output_type": "stream",
     "text": [
      "\n",
      "----------------------------------------------------------------------\n",
      "\n",
      "\n",
      "Capital:10000\n",
      "\n",
      "Profit on good day:2%\n",
      "\n",
      "Loss on bad day:1%\n",
      "\n",
      "Probablity of bad day:30.0% of days\n",
      "____________________________________\n",
      "\n",
      "number of estimated days:431\n",
      "\n",
      "number of estimated months:18.73913043478261\n",
      "____________________________________\n",
      "\n",
      "\n",
      "----------------------------------------------------------------------\n",
      "\n",
      "With a Capital of Rs. 10000, assuming that you get 2% increase on capital as profit on a good day, and 1% loss on 30.0% of days:\n",
      "\n",
      " It will take about 431 days or 18.73913043478261 months to reach Rs. 1019206.1154439684\n",
      "\n",
      "----------------------------------------------------------------------\n",
      "\n"
     ]
    }
   ],
   "source": [
    "capital, positive_trade, prob_neg, negative_trade, days, endgoal = trade_time(10000, 2, 0.3, 1, 1000000)\n",
    "print(\"\\n----------------------------------------------------------------------\\n\")\n",
    "print(f\"\\nCapital:{capital}\\n\")\n",
    "print(f\"Profit on good day:{positive_trade}%\\n\")\n",
    "print(f\"Loss on bad day:{negative_trade}%\\n\")\n",
    "print(f\"Probablity of bad day:{prob_neg*100}% of days\")\n",
    "print(\"____________________________________\\n\")\n",
    "print(f\"number of estimated days:{days}\\n\")\n",
    "print(f\"number of estimated months:{days/23}\")\n",
    "print(\"____________________________________\\n\")\n",
    "print(\"\\n----------------------------------------------------------------------\\n\")\n",
    "print(f\"With a Capital of Rs. {capital}, assuming that you get {positive_trade}% increase on capital as profit on a good day, and {negative_trade}% loss on {prob_neg*100}% of days:\\n\\n It will take about {days} days or {days/23} months to reach Rs. {endgoal}\")\n",
    "print(\"\\n----------------------------------------------------------------------\\n\")"
   ]
  },
  {
   "cell_type": "code",
   "execution_count": null,
   "metadata": {},
   "outputs": [],
   "source": []
  }
 ],
 "metadata": {
  "kernelspec": {
   "display_name": "Python 3",
   "language": "python",
   "name": "python3"
  },
  "language_info": {
   "codemirror_mode": {
    "name": "ipython",
    "version": 3
   },
   "file_extension": ".py",
   "mimetype": "text/x-python",
   "name": "python",
   "nbconvert_exporter": "python",
   "pygments_lexer": "ipython3",
   "version": "3.8.3"
  }
 },
 "nbformat": 4,
 "nbformat_minor": 4
}
